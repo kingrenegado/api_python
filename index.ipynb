{
 "cells": [
  {
   "cell_type": "code",
   "execution_count": null,
   "metadata": {},
   "outputs": [],
   "source": [
    "# importar librerias para uso de json, request de la api y tiempo\n",
    "import requests\n",
    "import json\n",
    "url = 'url api'\n",
    "\n",
    "headers = {'Content-type': 'application/x-www-form-urlencoded'}\n",
    "\n",
    "data = {\n",
    "    \"form-url-encoded postman\"\n",
    "}\n",
    "\n",
    "# Codificar los datos en formato x-www-form-urlencoded\n",
    "encoded_data = \"&\".join([f\"{key}={value}\" for key, value in data.items()])\n",
    "\n",
    "response = requests.post(url, headers=headers, data=encoded_data)\n",
    "\n",
    "json_data = response.json()\n",
    "\n",
    "print(json_data)\n"
   ]
  },
  {
   "cell_type": "code",
   "execution_count": null,
   "metadata": {},
   "outputs": [],
   "source": [
    "# conexion a la bd de synapse\n",
    "import pandas as pd\n",
    "import pyodbc\n",
    "\n",
    "try:\n",
    "    #Conexión a Synapse usando pyodbc\n",
    "    conn =  pyodbc.connect('DRIVER={ODBC Driver 17 for SQL Server};SERVER=tcp:server;PORT=1433;DATABASE=BD;UID=correo;PWD=contraseña;Authentication=ActiveDirectoryPassword')\n",
    "except pyodbc.OperationalError as e:\n",
    "    raise e\n",
    "else:\n",
    "    print('Conexion exitosa!')\n"
   ]
  },
  {
   "cell_type": "code",
   "execution_count": null,
   "metadata": {},
   "outputs": [],
   "source": [
    "for field_dict in json_data['data']:\n",
    "    fecha_pedido = field_dict['fecha_pedido']\n",
    "    razon_social = field_dict['razon_social']\n",
    "    paqueteria = field_dict['paqueteria']\n",
    "    guia_1 = field_dict['guia_1']\n",
    "    partida = field_dict['partida']\n",
    "    edo = field_dict['edo']\n",
    "    ciudad = field_dict['ciudad']\n",
    "    colonia = field_dict['colonia']\n",
    "    calle = field_dict['calle']\n",
    "    producto = field_dict['producto']\n",
    "    fecha_embarque_1 = field_dict['fecha_embarque_1']\n",
    "    responsable = field_dict['responsable']\n",
    "    estatus = field_dict['estatus']\n",
    "    fecha_recoleccion = field_dict['fecha_recoleccion']\n",
    "    fecha_entrega = field_dict['fecha_entrega']\n",
    "    \n",
    "    print(fecha_pedido)\n",
    "    print(razon_social)\n",
    "    print(paqueteria)\n",
    "    print(guia_1)\n",
    "    print(partida)\n",
    "    print(edo)\n",
    "    print(ciudad)\n",
    "    print(colonia)\n",
    "    print(calle)\n",
    "    print(producto)\n",
    "    print(fecha_embarque_1)\n",
    "    print(responsable)\n",
    "    print(estatus)\n",
    "    print(fecha_recoleccion)\n",
    "    print(fecha_entrega)"
   ]
  }
 ],
 "metadata": {
  "kernelspec": {
   "display_name": "Python 3",
   "language": "python",
   "name": "python3"
  },
  "language_info": {
   "codemirror_mode": {
    "name": "ipython",
    "version": 3
   },
   "file_extension": ".py",
   "mimetype": "text/x-python",
   "name": "python",
   "nbconvert_exporter": "python",
   "pygments_lexer": "ipython3",
   "version": "3.11.3"
  }
 },
 "nbformat": 4,
 "nbformat_minor": 2
}
